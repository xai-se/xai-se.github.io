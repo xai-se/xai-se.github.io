{
 "cells": [
  {
   "cell_type": "markdown",
   "metadata": {},
   "source": [
    "# ASE2021 PyExplainer Live-Demo\n",
    "\n",
    "Explaining instances with PyExplainer is simple.\n",
    "First, we need to load necesarry libraries as well as preparing datasets.\n"
   ]
  },
  {
   "cell_type": "code",
   "execution_count": 1,
   "metadata": {},
   "outputs": [],
   "source": [
    "## Load Data and preparing datasets\n",
    "\n",
    "# Import for Load Data\n",
    "from os import listdir\n",
    "from os.path import isfile, join\n",
    "import pandas as pd\n",
    "\n",
    "# Import for Split Data into Training and Testing Samples\n",
    "from sklearn.model_selection import train_test_split\n",
    "\n",
    "train_dataset = pd.read_csv((\"../../datasets/lucene-2.9.0.csv\"), index_col = 'File')\n",
    "test_dataset = pd.read_csv((\"../../datasets/lucene-3.0.0.csv\"), index_col = 'File')\n",
    "\n",
    "outcome = 'RealBug'\n",
    "features = ['OWN_COMMIT', 'Added_lines', 'CountClassCoupled', 'AvgLine', 'RatioCommentToCode']\n",
    "\n",
    "# process outcome to 0 and 1\n",
    "train_dataset[outcome] = pd.Categorical(train_dataset[outcome])\n",
    "train_dataset[outcome] = train_dataset[outcome].cat.codes\n",
    "\n",
    "test_dataset[outcome] = pd.Categorical(test_dataset[outcome])\n",
    "test_dataset[outcome] = test_dataset[outcome].cat.codes\n",
    "\n",
    "X_train = train_dataset.loc[:, features]\n",
    "X_test = test_dataset.loc[:, features]\n",
    "\n",
    "y_train = train_dataset.loc[:, outcome]\n",
    "y_test = test_dataset.loc[:, outcome]\n",
    "\n",
    "\n",
    "# commits - # of commits that modify the file of interest\n",
    "# Added lines - # of added lines of code\n",
    "# Count class coupled - # of classes that interact or couple with the class of interest\n",
    "# LOC - # of lines of code\n",
    "# RatioCommentToCode - The ratio of lines of comments to lines of code\n",
    "features = ['nCommit', 'AddedLOC', 'nCoupledClass', 'LOC', 'CommentToCodeRatio']\n",
    "class_labels = ['Clean', 'Defective']\n",
    "\n",
    "X_train.columns = features\n",
    "X_test.columns = features\n",
    "training_data = pd.concat([X_train, y_train], axis=1)\n",
    "testing_data = pd.concat([X_test, y_test], axis=1)"
   ]
  },
  {
   "cell_type": "markdown",
   "metadata": {},
   "source": [
    "Then, we construct a Random Forests model as a predictive model to be explained.\n",
    "\n",
    "**(1) Please construct a Random Forests model using the code cell below.**\n",
    "\n",
    "\n",
    "`````{admonition} Tips\n",
    ":class: tip\n",
    "````\n",
    "\n",
    "rf_model = RandomForestClassifier(random_state=0)\n",
    "rf_model.fit(X_train, y_train)  \n",
    "\n",
    "````\n",
    "`````"
   ]
  },
  {
   "cell_type": "code",
   "execution_count": 3,
   "metadata": {},
   "outputs": [
    {
     "data": {
      "text/plain": [
       "RandomForestClassifier(random_state=0)"
      ]
     },
     "execution_count": 3,
     "metadata": {},
     "output_type": "execute_result"
    }
   ],
   "source": [
    "from sklearn.ensemble import RandomForestClassifier\n",
    "\n",
    "# Please fit your Random Forests model here!\n",
    "rf_model = RandomForestClassifier(random_state=0)\n",
    "rf_model.fit(X_train, y_train)  "
   ]
  },
  {
   "cell_type": "markdown",
   "metadata": {},
   "source": [
    "## PyExplainer\n",
    "\n",
    "**PyExplainer** {cite}`pornprasit2021pyexplainer` is a rule-based model-agnostic technique that utilises a local rule-based regression model to learn the associations between the characteristics of the synthetic instances and the predictions from the black-box model.  Given a black-box model and an instance to explain, PyExplainer performs four key steps to generate an instance explanation as follows:\n",
    "\n",
    "-   First, PyExplainer generates synthetic neighbors around the instance to be explained using the crossover\n",
    "    and mutation techniques\n",
    "\n",
    "-   Second, PyExplainer obtains the predictions of the synthetic neighbors from the black-box model\n",
    "\n",
    "-   Third, PyExplainer builds a local rule-based regression model\n",
    "\n",
    "-   Finally, PyExplainer generates an explanation from the local model for the instance to be explained\n",
    "    \n",
    "`````{admonition} Tips\n",
    ":class: tip\n",
    "````\n",
    "\n",
    "# PyExplainer Step 1 - Construct a PyExplainer \n",
    "pyexp = PyExplainer(X_train = X_train,\n",
    "                           y_train = y_train,\n",
    "                           indep = X_train.columns,\n",
    "                           dep = outcome,\n",
    "                           blackbox_model = rf_model)\n",
    "\n",
    "# PyExplainer Step 2 - Generate the rule-based explanation of an instance to be explained\n",
    "exp_obj = pyexp.explain(X_explain = X_test.loc[file_to_be_explained,:].to_frame().transpose(),\n",
    "                        y_explain = pd.Series(bool(y_test.loc[file_to_be_explained]), \n",
    "                                                      index = [file_to_be_explained],\n",
    "                                                      name = outcome),\n",
    "                        search_function = 'crossoverinterpolation',\n",
    "                        max_iter=1000,\n",
    "                        max_rules=20,\n",
    "                        random_state=0,\n",
    "                        reuse_local_model=True)\n",
    "\n",
    "# Print rule \n",
    "exp_obj['top_k_positive_rules'][:1]\n",
    "\n",
    "# Please use the code below to visualise the generated PyExplainer explanation (What-If interactive visualisation).\n",
    "pyexp.visualise(exp_obj, title=\"Why this file is predicted as defect-introducing?\")\n",
    "\n",
    "````\n",
    "`````"
   ]
  },
  {
   "cell_type": "code",
   "execution_count": 6,
   "metadata": {},
   "outputs": [],
   "source": [
    "# Import for PyExplainer\n",
    "from pyexplainer.pyexplainer_pyexplainer import PyExplainer\n",
    "\n",
    "file_to_be_explained = 'src/java/org/apache/lucene/index/DocumentsWriter.java'\n",
    "\n",
    "# PyExplainer Step 1 - Construct a PyExplainer \n",
    "\n",
    "\n",
    "# PyExplainer Step 2 - Generate the rule-based explanation of an instance to be explained\n",
    "\n",
    "\n",
    "# Print rule \n",
    "\n",
    "\n",
    "# Please use the code below to visualise the generated PyExplainer explanation (What-If interactive visualisation)."
   ]
  },
  {
   "cell_type": "code",
   "execution_count": 4,
   "metadata": {},
   "outputs": [],
   "source": [
    "# Print rule \n"
   ]
  },
  {
   "cell_type": "code",
   "execution_count": 5,
   "metadata": {},
   "outputs": [],
   "source": [
    "# Please use the code below to visualise the generated PyExplainer explanation (What-If interactive visualisation).\n"
   ]
  }
 ],
 "metadata": {
  "kernelspec": {
   "display_name": "xaitools",
   "language": "python",
   "name": "xaitools"
  },
  "language_info": {
   "codemirror_mode": {
    "name": "ipython",
    "version": 3
   },
   "file_extension": ".py",
   "mimetype": "text/x-python",
   "name": "python",
   "nbconvert_exporter": "python",
   "pygments_lexer": "ipython3",
   "version": "3.9.2"
  }
 },
 "nbformat": 4,
 "nbformat_minor": 4
}
