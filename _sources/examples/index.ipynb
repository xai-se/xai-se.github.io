{
 "cells": [
  {
   "cell_type": "code",
   "execution_count": 1,
   "id": "cooperative-arrival",
   "metadata": {},
   "outputs": [],
   "source": [
    "# Example Case Studies"
   ]
  },
  {
   "cell_type": "code",
   "execution_count": null,
   "id": "polar-chair",
   "metadata": {},
   "outputs": [],
   "source": []
  }
 ],
 "metadata": {
  "kernelspec": {
   "display_name": "xaitools",
   "language": "python",
   "name": "xaitools"
  },
  "language_info": {
   "codemirror_mode": {
    "name": "ipython",
    "version": 3
   },
   "file_extension": ".py",
   "mimetype": "text/x-python",
   "name": "python",
   "nbconvert_exporter": "python",
   "pygments_lexer": "ipython3",
   "version": "3.6.13"
  }
 },
 "nbformat": 4,
 "nbformat_minor": 5
}
