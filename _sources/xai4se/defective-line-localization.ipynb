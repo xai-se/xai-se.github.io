{
 "cells": [
  {
   "cell_type": "markdown",
   "metadata": {},
   "source": [
    "# (Example 1) Help developers localize which lines of code are the most risky\n",
    "\n",
    "## Motivation\n",
    "Traditionally, software defect predictions are proposed to predict which files are likely to be defective in the future. \n",
    "However, the proportion of critically-important defective lines are extremely low.\n",
    "Our prior studies found that the ratio of defective lines in a file is as low as 1%-3%.\n",
    "Thus, traditional file-level defect prediction models are still not practical to be used in practice.\n",
    "However, there exists no features at the line level. \n",
    "Thus, line-level defect prediction remains an extremely challenging problem.\n",
    "\n",
    "## Approach\n",
    "To address this problem, we proposed to use the LIME's model-agnostic technique{cite}`ribeiro2016model` to explain the predictions of file-level defect prediction models.\n",
    "In particular, we first build file-level defect prediction models using textual features (i.e., bag of tokens that appear in a file) with a random forest classification technique.\n",
    "For each prediction, we apply LIME to understand the prediction.\n",
    "This approach allows us to identify which tokens and which lines contribute to the prediction of each file, which can be used to help developers localize which lines of code are the most risky.\n",
    "\n",
    "## Results\n",
    "\n",
    "```{figure} /xai4se/images/defective-line-localization.png\n",
    "---\n",
    "name: figure-defective-line-localization\n",
    "---\n",
    "An illustrative example of the use of LIME to identify which lines of code are the most risky.\n",
    "``` \n",
    "\n",
    "{numref}`figure-defective-line-localization` shows an example of the use of LIME to identify which lines of code are the most risky.\n",
    "The results show that this approach can correctly identify 61\\% of actual defective lines in a file, suggesting our approach could potentially help developers reduce SQA effort that need to be spent by 52\\% on clean lines, while accurately identifying 61\\% of actual defective lines.\n",
    "\n"
   ]
  },
  {
   "cell_type": "code",
   "execution_count": null,
   "metadata": {},
   "outputs": [],
   "source": []
  }
 ],
 "metadata": {
  "kernelspec": {
   "display_name": "xaitools",
   "language": "python",
   "name": "xaitools"
  },
  "language_info": {
   "codemirror_mode": {
    "name": "ipython",
    "version": 3
   },
   "file_extension": ".py",
   "mimetype": "text/x-python",
   "name": "python",
   "nbconvert_exporter": "python",
   "pygments_lexer": "ipython3",
   "version": "3.6.13"
  }
 },
 "nbformat": 4,
 "nbformat_minor": 4
}
