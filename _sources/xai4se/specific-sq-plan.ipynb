{
 "cells": [
  {
   "cell_type": "markdown",
   "metadata": {},
   "source": [
    "# (Example 3) Help managers develop software quality improvement plans\n",
    "\n",
    "## Motivation\n",
    "Traditionally, software defect predictions can only generate predictions and provide an understanding at the global level through the use of ANOVA analysis or Random Forest's feature importance{cite}`jiarpakdee2018impact`. \n",
    "However, such predictions and global insights are still not actionable---i.e., developers do not know what actions they should follow or should not follow to improve the quality of software systems.\n",
    "\n",
    "Let's consider a scenario where a defect prediction model indicates that large file size is associated with defect-proneness.\n",
    "While this insight can help managers develop quality improvement plans that in the next development iteration, developers should maintain the lower file size to mitigate the risk of having defects.\n",
    "However, such insights do not provide a concrete suggestion of the optimal threshold of file size---i.e., what is the optimal file size that a file should be.\n",
    "Thus, a lack of such actionable guidance and a lack of optimal  thresholds often leads to ineffective software quality improvement plans.\n",
    "\n",
    "## Approach\n",
    "To generate actionable guidance, we propose to use a rule-based model-agnostic technique to generate a rule-based explanation for each  prediction of defect prediction models.\n",
    "In particular, we first build file-level defect prediction models that are trained using traditional software features (e.g., lines of code, code complexity, the number of developers who edited a file) with a random forest classification technique.\n",
    "For each prediction, we apply a rule-based model-agnostic technique called LoRMikA{cite}`rajapaksha2021sqaplanner` to generate two types of actionable guidance (i.e., what developers should do to mitigate the risk of having defects and what developers should not do to avoid increasing the risk of having defects).\n",
    "\n",
    "\n",
    "## Results\n",
    "\n",
    "```{figure} /xai4se/images/specific-sq-plan.png\n",
    "---\n",
    "name: figure-specific-sq-plan\n",
    "---\n",
    "An example of actionable guidance to help managers developing quality improvement plans.\n",
    "``` \n",
    "\n",
    "{numref}`figure-specific-sq-plan` presents an example of actionable guidance to help managers developing quality improvement plans.\n",
    "To decrease the risk of having defects, developers should consider (1) decrease the number of class and method declaration lines to less than 29 lines, (2) decrease the number of distinct developers to less than 2 developers, (3) increase the proportion of code ownership to more than 0.85, (4) decrease the number of blank lines to less than 8 lines, (5) decrease the number of output variables to less than 2 variables.\n",
    "\n",
    "Nevertheless, to not increase the risk of having defects, developers should consider avoid decreasing the comment to code ratio and avoid increasing the number of minor or junior developers.\n",
    "\n"
   ]
  },
  {
   "cell_type": "code",
   "execution_count": null,
   "metadata": {},
   "outputs": [],
   "source": []
  }
 ],
 "metadata": {
  "kernelspec": {
   "display_name": "xaitools",
   "language": "python",
   "name": "xaitools"
  },
  "language_info": {
   "codemirror_mode": {
    "name": "ipython",
    "version": 3
   },
   "file_extension": ".py",
   "mimetype": "text/x-python",
   "name": "python",
   "nbconvert_exporter": "python",
   "pygments_lexer": "ipython3",
   "version": "3.6.13"
  }
 },
 "nbformat": 4,
 "nbformat_minor": 4
}
