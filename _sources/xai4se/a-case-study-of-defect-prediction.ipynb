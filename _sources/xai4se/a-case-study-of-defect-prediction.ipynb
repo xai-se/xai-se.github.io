{
 "cells": [
  {
   "cell_type": "markdown",
   "metadata": {},
   "source": [
    "# A Case Study of Defect Prediction\n",
    "\n",
    "In today’s increasingly digitalized world, software defects are widespread and enormously expensive, but they are very hard to detect, predict, and prevent. \n",
    "Thus, a failure to eliminate software defects in safety-critical systems could result in serious injury to people, threats to life, death, and disasters. \n",
    "Here, we present 3 use-case scenarios of eXplainable AI defect prediction framework to achieve the followings:\n",
    "- Generating fine-grained predictions in order to help developers *localize which lines of code are the most risky* so developers can allocate limited software quality assurance activities in a cost-effective manner{cite}`wattanakriengkrai2020`.\n",
    "- Generating explanations for each prediction to help developers *understand why a file is predicted as defective*{cite}`jiarpakdee2020modelagnostic`.\n",
    "- Generating actionable guidance to help managers *chart appropriate quality improvement plans*."
   ]
  },
  {
   "cell_type": "code",
   "execution_count": null,
   "metadata": {},
   "outputs": [],
   "source": []
  }
 ],
 "metadata": {
  "kernelspec": {
   "display_name": "xaitools",
   "language": "python",
   "name": "xaitools"
  },
  "language_info": {
   "codemirror_mode": {
    "name": "ipython",
    "version": 3
   },
   "file_extension": ".py",
   "mimetype": "text/x-python",
   "name": "python",
   "nbconvert_exporter": "python",
   "pygments_lexer": "ipython3",
   "version": "3.6.13"
  }
 },
 "nbformat": 4,
 "nbformat_minor": 4
}
