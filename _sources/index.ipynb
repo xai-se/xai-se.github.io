{
 "cells": [
  {
   "cell_type": "markdown",
   "metadata": {},
   "source": [
    "# *Explainable AI for Software Engineering*\n",
    "\n",
    "*A Hands-on Guide on How To Make Software Analytics More Practical, Explainable, and Actionable*\n",
    "\n",
    "---\n",
    "\n",
    "```{figure} /start/images/front-banner.png\n",
    "---\n",
    "name: software-tools\n",
    "---\n",
    "```\n",
    "\n",
    "## About this Book\n",
    "\n",
    "The success of software engineering projects largely depends on complex decision-making. For example, which tasks should a developer do first, who should perform this task, is the software of high quality, is a software system reliable and resilient enough to deploy, etc. However, erroneous decision-making for these complex questions is costly in terms of money and reputation. Thus, Artificial Intelligence/Machine Learning (AI/ML) techniques have been widely used in software engineering for developing software analytics tools and techniques to improve decision-making, developer productivity, and software quality. However, the predictions of such AI/ML models for software engineering are still not practical (i.e., fine-grained), not explainable, and not actionable. These concerns often hinder the adoption of AI/ML models in software engineering practices. In addition, many recent studies still focus on improving the accuracy, while a few of them focus on improving explainability. **Are we moving in the right direction? How can we better improve the SE community (both research and education)?** In this book, we first provide a concise yet essential introduction to the most important aspects of Explainable AI and a hands-on tutorial of Explainable AI tools and techniques. Then, we introduce the fundamental knowledge of defect prediction (an example application of AI for Software Engineering). Finally, we demonstrate three successful case studies on how Explainable AI techniques can be used to address the aforementioned challenges by making the predictions of software defect prediction models more practical, explainable, and actionable.\n",
    "\n",
    "### What you will learn\n",
    "\n",
    "This book consists of three parts:\n",
    "\n",
    "* **Part 1-Explainable AI:** We first provide a concise yet essential introduction to the most important aspects of Explainable AI and a hands-on tutorial of Explainable AI tools and techniques.\n",
    "\n",
    "* **Part 2-Defect Prediction Models:** We introduce the fundamental knowledge of defect prediction (an example application of AI for Software Engineering)\n",
    "\n",
    "* **Part 3-Explainable AI for Software Engineering:** We demonstrate three successful case studies on how Explainable AI techniques can be used to address the aforementioned challenges by making the predictions of software defect prediction models more practical, explainable, and actionable.\n",
    "\n",
    "### Who this book is for\n",
    "\n",
    "Some of the potential readers of this book include:\n",
    "\n",
    "1. SE researchers and PhD students who want to learn more about the intersection of Explainable AI and Software Engineering.\n",
    "\n",
    "2. Software practitioners who already use Python for as data science, machine learning, research, and analysis and wish to apply their data science knowledge to software data.\n",
    "\n",
    "3. Software analysts and data scientists who want to understand and avoid pitfalls when desigining software analytics.\n",
    "\n",
    "4. Project managers who involve high-stakes decision-making and need software analytics to make smarter data-driven business decisions.\n",
    "\n",
    "**Caution:** This book is not an introduction to data science, machine learning, or artifcial intelligence concepts. You must have some foundational knowledge and/or experience with machine learning libraries such as scikit-learn to make the most out of this book.\n",
    "\n",
    "### About the authors\n",
    "\n",
    "**Dr. Chakkrit (Kla) Tantithamthavorn** is a Senior Lecturer in Software Engineering and a 2020 ARC DECRA Fellow in the Faculty of Information Technology, Monash University, Australia. He is leading a new research area of Explaianble AI for Software Engineering. His current fellowship is focusing on the development of Practical and Explainable Analytics to Prevent Future Software Defects. His work has been published at several top-tier software engineering venues, such as TSE, ICSE, EMSE, MSR, IST. Contact him at chakkrit@monash.edu.\n",
    "\n",
    "**Dr. Jirayus Jiarpakdee** is graduated from Monash University, Australia. His research interests include empirical software engineering and mining software repositories (MSR). The goal of his Ph.D. is to apply the knowledge of statistical modelling, experimental design, and software engineering to improve the explainability of defect prediction models. Contact him at jirayus.jiarpakdee@monash.edu.\n",
    "\n",
    "\n",
    "### Cite this book:\n",
    "\n",
    "```\n",
    "@book{xai4sebook,\n",
    "    author = {Chakkrit Tantithamthavorn and Jirayus Jiarpakdee},\n",
    "    booktitle = {Explainable AI for Software Engineering},\n",
    "    year = {2021},\n",
    "    publisher = {Monash University},\n",
    "    howpublished = {\\url{http://xai4se.github.io/}},\n",
    "    note = {Retrieved 2021-05-17},\n",
    "    url = {http://xai4se.github.io/},\n",
    "    urldate = {2021-05-17},\n",
    "    doi = {10.5281/zenodo.4769127}\n",
    "}\n",
    "```"
   ]
  },
  {
   "cell_type": "markdown",
   "metadata": {},
   "source": [
    "### Testimonials\n",
    "\n",
    "We are very excited to hear about how does this book help you (e.g., research, teaching, learning).\n",
    "\n",
    "```{raw} html\n",
    "<script\n",
    "   type=\"text/javascript\"\n",
    "   src=\"https://utteranc.es/client.js\"\n",
    "   async=\"async\"\n",
    "   repo=\"xai4se/xai4se.github.io\"\n",
    "   issue-term=\"Testimonials\"\n",
    "   theme=\"github-light\"\n",
    "   label=\"💬 comment\"\n",
    "   crossorigin=\"anonymous\"\n",
    "/>\n",
    "```"
   ]
  },
  {
   "cell_type": "markdown",
   "metadata": {},
   "source": [
    "<script src=\"https://utteranc.es/client.js\"\n",
    "        repo=\"https://github.com/analytics-cookbook/analytics-cookbook.github.io\"\n",
    "        issue-term=\"Testimonial\"\n",
    "        label=\"testimonial\"\n",
    "        theme=\"github-light\"\n",
    "        crossorigin=\"anonymous\"\n",
    "        async>\n",
    "</script>"
   ]
  }
 ],
 "metadata": {
  "kernelspec": {
   "display_name": "xaitools",
   "language": "python",
   "name": "xaitools"
  },
  "language_info": {
   "codemirror_mode": {
    "name": "ipython",
    "version": 3
   },
   "file_extension": ".py",
   "mimetype": "text/x-python",
   "name": "python",
   "nbconvert_exporter": "python",
   "pygments_lexer": "ipython3",
   "version": "3.6.13"
  }
 },
 "nbformat": 4,
 "nbformat_minor": 4
}
