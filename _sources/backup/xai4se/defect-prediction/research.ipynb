{
 "cells": [
  {
   "cell_type": "markdown",
   "id": "fewer-combining",
   "metadata": {},
   "source": [
    "## The Risks of Unsound Software Analytics\n",
    "\n",
    "However, such predictions and explanations may be invalid if practitioners do not consider the risks of building unsound software analytics, leading to outdated analytical models, invalid predictions and explanations, erroneous and costly business decisions. \n",
    "Thus, if care is not taken when analyzing and modeling software data, the predictions and insights that are derived from analytical models may be inaccurate and unreliable. \n",
    "\n",
    "Below, we provide a hands-on tutorial to guide practitioners on how to (1) analyze software data using statistical techniques like correlation analysis, hypothesis testing, effect size analysis, and multiple comparisons, (2) develop accurate, reliable, and reproducible analytical models, (3) interpret the models to uncover relationships and insights, and (4) discuss pitfalls associated with analytical techniques including hands-on examples with real software data."
   ]
  },
  {
   "cell_type": "code",
   "execution_count": null,
   "id": "superior-permit",
   "metadata": {},
   "outputs": [],
   "source": [
    "s"
   ]
  }
 ],
 "metadata": {
  "kernelspec": {
   "display_name": "xaitools",
   "language": "python",
   "name": "xaitools"
  },
  "language_info": {
   "codemirror_mode": {
    "name": "ipython",
    "version": 3
   },
   "file_extension": ".py",
   "mimetype": "text/x-python",
   "name": "python",
   "nbconvert_exporter": "python",
   "pygments_lexer": "ipython3",
   "version": "3.6.13"
  }
 },
 "nbformat": 4,
 "nbformat_minor": 5
}
