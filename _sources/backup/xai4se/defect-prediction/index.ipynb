{
 "cells": [
  {
   "cell_type": "markdown",
   "metadata": {},
   "source": [
    "# Software Analytics in a Nutshell\n",
    "\n",
    "The success of software engineering projects largely depends on complex decision-making (see {numref}`Figure {number} <complex-decision-making>`). For example, which tasks should a developer do first,\n",
    "who should perform this task, is the software of high quality, is a software system reliable and resilient enough to deploy, etc. However,\n",
    "erroneous decision-making for these complex questions is costly in terms of money and reputation.\n",
    "\n",
    "```{figure} /xai4se/defect-prediction/images/complex-decision-making.png\n",
    "---\n",
    "name: complex-decision-making\n",
    "height: 400px\n",
    "---\n",
    "The success of software engineering projects largely depends on complex decision-making.\n",
    "```\n",
    "\n",
    "\n",
    "Today's software development processes depend on a variety of development tools, such as issue tracking systems, version control\n",
    "systems, code review, continuous integration, continuous deployment, and Q&A websites. Such tools generate large quantities of unstructured\n",
    "software artefacts at a high frequency (so-called Big Data) in many forms like issue reports, source code, test cases, code reviews,\n",
    "execution logs, app reviews, developer mailing lists, and discussion threads. \n",
    "\n",
    "{numref}`Figure {number} <software-tools>` illustrates a simplified software engineering workflow that includes SQA activities.\n",
    "\n",
    "```{figure} /xai4se/defect-prediction/images/software-tools.png\n",
    "---\n",
    "name: software-tools\n",
    "---\n",
    "A list of software tools that are used throughout a modern software development process.\n",
    "```\n",
    "\n",
    "**Software Analytics** is a software engineering discipline that focuses\n",
    "on leveraging AI/ML and data **analytics** techniques to uncover interesting and actionable knowledge from the unprecedented amount of **software data** {cite}`menzies2013software` {cite}`tantithamthavorn2018pitfalls`.\n",
    "Many software organisations (e.g., Microsoft, Facebook, and Google) currently use powerful AI/ML techniques to make data-driven engineering\n",
    "decisions and automate software engineering tasks. For example, software defect prediction, effort estimation, task prioritization, task\n",
    "recommendation, expert recommendation, code generation, developers' productivity prediction, malware detection, and security vulnerability detection.\n",
    "\n",
    "\n",
    "```{figure} /xai4se/defect-prediction/images/analytics-definition.png\n",
    "---\n",
    "name: analytics-definition\n",
    "---\n",
    "TITLE?\n",
    "```\n",
    "\n",
    "\n",
    "\n",
    "{numref}`Figure {number} <simple-pipeline>` illustrates an overview of the software analytics pipeline.\n",
    "\n",
    "```{figure} /xai4se/defect-prediction/images/simple-pipeline.png\n",
    "---\n",
    "name: simple-pipeline\n",
    "---\n",
    "An overview of the software analytics pipeline.\n",
    "```"
   ]
  },
  {
   "cell_type": "code",
   "execution_count": null,
   "metadata": {},
   "outputs": [],
   "source": []
  }
 ],
 "metadata": {
  "kernelspec": {
   "display_name": "xaitools",
   "language": "python",
   "name": "xaitools"
  },
  "language_info": {
   "codemirror_mode": {
    "name": "ipython",
    "version": 3
   },
   "file_extension": ".py",
   "mimetype": "text/x-python",
   "name": "python",
   "nbconvert_exporter": "python",
   "pygments_lexer": "ipython3",
   "version": "3.6.13"
  }
 },
 "nbformat": 4,
 "nbformat_minor": 5
}
