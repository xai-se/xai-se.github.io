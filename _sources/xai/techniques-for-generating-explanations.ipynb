{
 "cells": [
  {
   "cell_type": "markdown",
   "metadata": {},
   "source": [
    "# Techniques for Generating Explanations"
   ]
  },
  {
   "cell_type": "markdown",
   "metadata": {},
   "source": [
    "Prior studies often leverage *white-box AI/ML techniques*, such as decision trees and decision rules.\n",
    "The transparency of such white-box AI/ML techniques allows us to meaningfully understand the magnitude of the contribution of each metric on the learned outcomes by directly inspecting the model components.\n",
    "For example, the coefficients of each metric in a regression model, paths in a decision tree, or rules of a decision rule model\n",
    "\n",
    "In contrast, white-box AI/ML techniques are often less accurate than complex black-box AI/ML techniques and often generate generic explanations (e.g., one decision node may cover 100 instances).\n",
    "Recently, model-agnostic techniques (e.g., LIME {cite}`ribeiro2016should` and BreakDown {cite}`gosiewska2019ibreakdown`) have been used to explain the predictions of any black-box AI/ML models at an instance level.\n",
    "Below, we provide the definition of (1) model-specific techniques for generating global explanations and (2) model-agnostic techniques for generating local explanations.\n",
    "\n",
    "\n",
    "```{figure} /xai/images/techniques-overview.png\n",
    "---\n",
    "name: figure-techniques-overview\n",
    "---\n",
    "An illustration of model-specific techniques for generating global explanations and model-agnostic techniques for generating local explanations.\n",
    "``` \n",
    "\n",
    "**_Model-specific explanation techniques_** focus on explaining the entire decision-making process of a specific black-box model.\n",
    "For example, an ANOVA analysis for logistic regression and a variable importance analysis for random forests. \n",
    "However, such global explanations are often derived from black-box models that are constructed from training data, which are not specific enough to explain an individual prediction.\n",
    "\n",
    "\n",
    "**_Model-agnostic techniques_** (i.e., local explanation techniques), on the other hand, focus on explaining an individual prediction by diagnosing a black-box model.\n",
    "Unlike model-specific explanation techniques described above, the great advantage of model-agnostic techniques is their flexibility. Such model-agnostic techniques can (1) interpret any classification techniques (e.g., regression, random forest, and neural networks); (2) are not limited to a certain form of explanations (e.g., feature importance or rules); and (3) are able to process any input data (e.g., features, words, and images {cite}`ribeiro2016model`)."
   ]
  },
  {
   "cell_type": "code",
   "execution_count": null,
   "metadata": {},
   "outputs": [],
   "source": []
  }
 ],
 "metadata": {
  "kernelspec": {
   "display_name": "xaitools",
   "language": "python",
   "name": "xaitools"
  },
  "language_info": {
   "codemirror_mode": {
    "name": "ipython",
    "version": 3
   },
   "file_extension": ".py",
   "mimetype": "text/x-python",
   "name": "python",
   "nbconvert_exporter": "python",
   "pygments_lexer": "ipython3",
   "version": "3.6.13"
  }
 },
 "nbformat": 4,
 "nbformat_minor": 5
}
