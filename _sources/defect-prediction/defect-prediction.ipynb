{
 "cells": [
  {
   "cell_type": "markdown",
   "metadata": {},
   "source": [
    "# Defect Prediction\n",
    "Defect prediction models have been proposed to predict the most risky areas of source code that are likely to have post-release defects {cite}`menzies2007data` {cite}`nagappan2010change` {cite}`d2010extensive` {cite}`tantithamthavorn2018optimization` {cite}`tantithamthavorn2016automated` {cite}`wang2016automatically` {cite}`wang2018deep`.\n",
    "A defect prediction model is a classification model that estimates the likelihood that a file will have post-release defects.\n",
    "One of the main purposes is to help practitioners effectively spend their limited SQA resources on the most risky areas of code in a cost-effective manner.\n",
    "s\n",
    "## The modelling pipeline of defect prediction models\n",
    "\n",
    "The predictive accuracy of the defect prediction model heavily relies on the modelling pipelines of defect prediction models\n",
    "{cite}`tantithamthavorn2015icse`{cite}`tantithamthavorn2016comments`{cite}`tantithamthavorn2018pitfalls`{cite}`menzies2019`{cite}`ghotra2015revisiting`{cite}`agrawal2018better`{cite}`tantithamthavorn2016icseds`.\n",
    "To accurately predicting defective areas of code, prior studies conducted a comprehensive evaluation to identify the best technique of the modelling pipelines for defect models.\n",
    "For example, feature selection techniques {cite}`ghotra2017large`{cite}`jiarpakdee2018autospearman`{cite}`jiarpakdee2020featureselection`,\n",
    "collinearity analysis\n",
    "{cite}`jiarpakdee2018autospearman`{cite}`jiarpakdee2016study`{cite}`jiarpakdee2018impact`,\n",
    "class rebalancing techniques {cite}`tantithamthavorn2018impact`,\n",
    "classification techniques {cite}`ghotra2015revisiting`,\n",
    "parameter optimization {cite}`tantithamthavorn2016automated`{cite}`fu2016tuning`{cite}`tantithamthavorn2018optimization`{cite}`agrawal2018better`,\n",
    "model validation {cite}`tantithamthavorn2017empirical`, and model interpretation {cite}`jiarpakdee2018impact`{cite}`jiarpakdee2020empirical`.\n",
    "Despite the recent advances in the modelling pipelines for defect prediction models, the cost-effectiveness of the SQA resource prioritization still relies on the granularity of the predictions.\n",
    "\n",
    "## The granularity levels of defect predictions models\n",
    "\n",
    "The cost-effectiveness of the SQA resource prioritization heavily relies on the granularity levels of defect prediction.\n",
    "Prior studies argued that prioritizing software modules at the finer granularity is more cost-effective {cite}`pascarella2019fine` {cite}`kamei2010revisiting` {cite}`hata2012bug`.\n",
    "For example, Kamei et al. {cite}`kamei2010revisiting` found that the file-level defect prediction is more effective than the package-level defect prediction.\n",
    "Hata et al. {cite}`hata2012bug` found that the method-level defect prediction is more effective than file-level defect prediction.\n",
    "Defect models at various granularity levels have been proposed, e.g., packages {cite}`kamei2010revisiting`, components {cite}`thongtanunam2016revisiting`, modules {cite}`kamei2007effects`, files {cite}`kamei2010revisiting` {cite}`mende2010effort`, methods {cite}`hata2012bug`.\n",
    "However, developers could still waste an SQA effort on manually identifying the most risky lines, since the current prediction granularity is still perceived as coarse-grained {cite}`wan2018perceptions`. \n",
    "Hence, the line-level defect prediction should be beneficial to SQA teams to spend optimal effort on identifying and analyzing defects.\n",
    "\n",
    "\n",
    "```{figure} /defect-prediction/images/predictive-modelling.png\n",
    "---\n",
    "name: predictive-modelling\n",
    "---\n",
    "An overview process of defect prediction models.\n",
    "```\n",
    "\n",
    "\n",
    "\n"
   ]
  },
  {
   "cell_type": "markdown",
   "metadata": {},
   "source": []
  },
  {
   "cell_type": "code",
   "execution_count": null,
   "metadata": {},
   "outputs": [],
   "source": []
  }
 ],
 "metadata": {
  "kernelspec": {
   "display_name": "xaitools",
   "language": "python",
   "name": "xaitools"
  },
  "language_info": {
   "codemirror_mode": {
    "name": "ipython",
    "version": 3
   },
   "file_extension": ".py",
   "mimetype": "text/x-python",
   "name": "python",
   "nbconvert_exporter": "python",
   "pygments_lexer": "ipython3",
   "version": "3.6.13"
  }
 },
 "nbformat": 4,
 "nbformat_minor": 5
}
