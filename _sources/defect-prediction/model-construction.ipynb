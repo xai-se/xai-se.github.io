{
 "cells": [
  {
   "cell_type": "markdown",
   "metadata": {},
   "source": [
    "# (Step 3) Model Construction\n",
    "\n",
    "##  Always find the best classification technique\n",
    "\n",
    "Shihab {cite}`Shihab2012` and Hall et al. {cite}`hall2012systematic` show that logistic regression and random forests are the two most-popularly-used classification techniques in the literature of software defect prediction, since they are explainable and have built-in model explanation techniques (i.e., the ANOVA analysis for the regression technique and the variable importance analysis for the random forests technique).\n",
    "Recent studies {cite}`tantithamthavorn2016automated`{cite}`fu2016tuning`{cite}`tantithamthavorn2018optimization` also demonstrate that automated parameter optimisation can improve the performance and stability of defect models.\n",
    "Using the findings of prior studies to guide our selection, we choose (1) the commonly-used classification techniques that have built-in model-specific explanation techniques (i.e., logistic regression and random forests) and (2) the top-5 classification techniques when performing automated parameter optimisation {cite}`tantithamthavorn2016automated`{cite}`tantithamthavorn2018optimization` (i.e., random forests, C5.0, neural network, GBM, and xGBTree).\n",
    "\n",
    "<!-- We use the implementation of Logistic Regression as provided by the \\texttt{glm} function of the \\texttt{stats} R package~\\cite{statsRPackage}.\n",
    "We use the implementation of automated parameter optimisation of Random Forests, C5.0, AVNNet, GBM, and xGBTree as provided by the \\texttt{train} function of the \\texttt{caret} R package~\\cite{kuhn2017caret} with the options of \\texttt{rf}, \\texttt{C5.0}, \\texttt{avNNet}, \\texttt{gbm}, and \\texttt{xgbTree} for the method parameter, respectively. -->\n",
    "To determine the best classification technique, we use the Area Under the receiver operator characteristic Curve (AUC) to as a performance indicator to measure the discriminatory power of predictive models, as suggested by recent research {cite}`lessmann2008benchmarking`{cite}`ghotra2015revisiting`{cite}`rahman2013and`.\n",
    "The axes of the curve of the AUC measure are the coverage of non-defective modules (true negative rate) for the x-axis and the coverage of defective modules (true positive rate) for the y-axis.\n",
    "The AUC measure is a threshold-independent performance measure that evaluates the ability of models in discriminating between defective and clean instances.\n",
    "The values of AUC range between 0 (worst), 0.5 (no better than random guessing), and 1 (best) {cite}`Hanley1982-uo`.\n",
    "We neither re-balance nor normalize our training samples to preserve its original characteristics and to avoid any concept drift for the explanations of defect models{cite}`tantithamthavorn2018impact`.\n",
    "\n",
    "Below, we provide an example of an interactive code snippet on how to construct and evaluate defect models to find the best classification techniques.\n"
   ]
  },
  {
   "cell_type": "code",
   "execution_count": 65,
   "metadata": {
    "tags": [
     "remove-cell"
    ]
   },
   "outputs": [],
   "source": [
    "## Load Data and preparing datasets\n",
    "\n",
    "# Import for Load Data\n",
    "from os import listdir\n",
    "from os.path import isfile, join\n",
    "import pandas as pd\n",
    "import numpy as np\n",
    "\n",
    "# Import for Split Data into Training and Testing Samples\n",
    "from sklearn.model_selection import train_test_split\n",
    "\n",
    "\n",
    "\n",
    "train_dataset = pd.read_csv((\"../../datasets/lucene-2.9.0.csv\"), index_col = 'File')\n",
    "test_dataset = pd.read_csv((\"../../datasets/lucene-3.0.0.csv\"), index_col = 'File')\n",
    "\n",
    "outcome = 'RealBug'\n",
    "features = ['OWN_COMMIT', 'Added_lines', 'CountClassCoupled', 'AvgLine', 'RatioCommentToCode']\n",
    "\n",
    "# process outcome to 0 and 1\n",
    "train_dataset[outcome] = pd.Categorical(train_dataset[outcome])\n",
    "train_dataset[outcome] = train_dataset[outcome].cat.codes\n",
    "\n",
    "test_dataset[outcome] = pd.Categorical(test_dataset[outcome])\n",
    "test_dataset[outcome] = test_dataset[outcome].cat.codes\n",
    "\n",
    "X_train = train_dataset.loc[:, features]\n",
    "X_test = test_dataset.loc[:, features]\n",
    "\n",
    "y_train = train_dataset.loc[:, outcome]\n",
    "y_test = test_dataset.loc[:, outcome]\n",
    "\n",
    "\n",
    "# commits - # of commits that modify the file of interest\n",
    "# Added lines - # of added lines of code\n",
    "# Count class coupled - # of classes that interact or couple with the class of interest\n",
    "# LOC - # of lines of code\n",
    "# RatioCommentToCode - The ratio of lines of comments to lines of code\n",
    "features = ['nCommit', 'AddedLOC', 'nCoupledClass', 'LOC', 'CommentToCodeRatio']\n",
    "\n",
    "X_train.columns = features\n",
    "X_test.columns = features\n",
    "training_data = pd.concat([X_train, y_train], axis=1)\n",
    "testing_data = pd.concat([X_test, y_test], axis=1)"
   ]
  },
  {
   "cell_type": "code",
   "execution_count": 66,
   "metadata": {
    "tags": [
     "remove-output"
    ]
   },
   "outputs": [
    {
     "name": "stdout",
     "output_type": "stream",
     "text": [
      "[11:42:26] WARNING: /Users/travis/build/dmlc/xgboost/src/learner.cc:1095: Starting in XGBoost 1.3.0, the default evaluation metric used with the objective 'binary:logistic' was changed from 'error' to 'logloss'. Explicitly set eval_metric if you'd like to restore the old behavior.\n"
     ]
    },
    {
     "name": "stderr",
     "output_type": "stream",
     "text": [
      "/Users/jjia0028/opt/anaconda3/envs/xaitools/lib/python3.6/site-packages/xgboost/sklearn.py:1146: UserWarning: The use of label encoder in XGBClassifier is deprecated and will be removed in a future release. To remove this warning, do the following: 1) Pass option use_label_encoder=False when constructing XGBClassifier object; and 2) Encode your labels (y) as integers starting with 0, i.e. 0, 1, 2, ..., [num_class - 1].\n",
      "  warnings.warn(label_encoder_deprecation_msg, UserWarning)\n",
      "/Users/jjia0028/opt/anaconda3/envs/xaitools/lib/python3.6/site-packages/xgboost/data.py:115: UserWarning: Use subset (sliced data) of np.ndarray is not recommended because it will generate extra copies and increase memory consumption\n",
      "  \"memory consumption\")\n"
     ]
    }
   ],
   "source": [
    "# Import for Construct Defect Models (Classification)\n",
    "from sklearn.linear_model import LogisticRegression # Logistic Regression\n",
    "from sklearn.ensemble import RandomForestClassifier # Random Forests\n",
    "from sklearn.tree import DecisionTreeClassifier # C5.0 (Decision Tree)\n",
    "from sklearn.neural_network import MLPClassifier # Neural Network\n",
    "from sklearn.ensemble import GradientBoostingClassifier # Gradient Boosting Machine (GBM)\n",
    "import xgboost as xgb # eXtreme Gradient Boosting Tree (xGBTree)\n",
    "\n",
    "# Import for AUC calculation\n",
    "from sklearn.metrics import roc_auc_score \n",
    "\n",
    "## Construct defect models\n",
    "\n",
    "# Logistic Regression\n",
    "lr_model = LogisticRegression(random_state=1234)\n",
    "lr_model.fit(X_train, y_train)  \n",
    "lr_model_AUC = round(roc_auc_score(y_test, lr_model.predict_proba(X_test)[:,1]), 3)\n",
    "\n",
    "# Random Forests\n",
    "rf_model = RandomForestClassifier(random_state=1234, n_jobs = 10)\n",
    "rf_model.fit(X_train, y_train)  \n",
    "rf_model_AUC = round(roc_auc_score(y_test, rf_model.predict_proba(X_test)[:,1]), 3)\n",
    "\n",
    "# C5.0 (Decision Tree)\n",
    "dt_model = DecisionTreeClassifier(random_state=1234)\n",
    "dt_model.fit(X_train, y_train)  \n",
    "dt_model_AUC = round(roc_auc_score(y_test, dt_model.predict_proba(X_test)[:,1]), 3)\n",
    "\n",
    "# Neural Network\n",
    "nn_model = MLPClassifier(random_state=1234)\n",
    "nn_model.fit(X_train, y_train)  \n",
    "nn_model_AUC = round(roc_auc_score(y_test, nn_model.predict_proba(X_test)[:,1]), 3)\n",
    "\n",
    "# Gradient Boosting Machine (GBM)\n",
    "gbm_model = GradientBoostingClassifier(random_state=1234)\n",
    "gbm_model.fit(X_train, y_train)  \n",
    "gbm_model_AUC = round(roc_auc_score(y_test, gbm_model.predict_proba(X_test)[:,1]), 3)\n",
    "\n",
    "# eXtreme Gradient Boosting Tree (xGBTree)\n",
    "xgb_model = xgb.XGBClassifier(random_state=1234)\n",
    "xgb_model.fit(X_train, y_train)  \n",
    "xgb_model_AUC = round(roc_auc_score(y_test, xgb_model.predict_proba(X_test)[:,1]), 3)\n",
    "\n",
    "# Summarise into a DataFrame\n",
    "model_performance_df = pd.DataFrame(data=np.array([['Logistic Regression', 'Random Forests', 'C5.0 (Decision Tree)', 'Neural Network', 'Gradient Boosting Machine (GBM)', 'eXtreme Gradient Boosting Tree (xGBTree)'],\n",
    "                            [lr_model_AUC, rf_model_AUC, dt_model_AUC, nn_model_AUC, gbm_model_AUC, xgb_model_AUC]]).transpose(),\n",
    "             index = range(6),\n",
    "             columns = ['Model', 'AUC'])\n",
    "model_performance_df['AUC'] = model_performance_df.AUC.astype(float)\n",
    "model_performance_df = model_performance_df.sort_values(by = ['AUC'], ascending = False)"
   ]
  },
  {
   "cell_type": "code",
   "execution_count": 67,
   "metadata": {},
   "outputs": [
    {
     "data": {
      "text/html": [
       "<div>\n",
       "<style scoped>\n",
       "    .dataframe tbody tr th:only-of-type {\n",
       "        vertical-align: middle;\n",
       "    }\n",
       "\n",
       "    .dataframe tbody tr th {\n",
       "        vertical-align: top;\n",
       "    }\n",
       "\n",
       "    .dataframe thead th {\n",
       "        text-align: right;\n",
       "    }\n",
       "</style>\n",
       "<table border=\"1\" class=\"dataframe\">\n",
       "  <thead>\n",
       "    <tr style=\"text-align: right;\">\n",
       "      <th></th>\n",
       "      <th>Model</th>\n",
       "      <th>AUC</th>\n",
       "    </tr>\n",
       "  </thead>\n",
       "  <tbody>\n",
       "    <tr>\n",
       "      <th>1</th>\n",
       "      <td>Random Forests</td>\n",
       "      <td>0.859</td>\n",
       "    </tr>\n",
       "    <tr>\n",
       "      <th>5</th>\n",
       "      <td>eXtreme Gradient Boosting Tree (xGBTree)</td>\n",
       "      <td>0.822</td>\n",
       "    </tr>\n",
       "    <tr>\n",
       "      <th>4</th>\n",
       "      <td>Gradient Boosting Machine (GBM)</td>\n",
       "      <td>0.821</td>\n",
       "    </tr>\n",
       "    <tr>\n",
       "      <th>3</th>\n",
       "      <td>Neural Network</td>\n",
       "      <td>0.819</td>\n",
       "    </tr>\n",
       "    <tr>\n",
       "      <th>0</th>\n",
       "      <td>Logistic Regression</td>\n",
       "      <td>0.799</td>\n",
       "    </tr>\n",
       "    <tr>\n",
       "      <th>2</th>\n",
       "      <td>C5.0 (Decision Tree)</td>\n",
       "      <td>0.717</td>\n",
       "    </tr>\n",
       "  </tbody>\n",
       "</table>\n",
       "</div>"
      ],
      "text/plain": [
       "                                      Model    AUC\n",
       "1                            Random Forests  0.859\n",
       "5  eXtreme Gradient Boosting Tree (xGBTree)  0.822\n",
       "4           Gradient Boosting Machine (GBM)  0.821\n",
       "3                            Neural Network  0.819\n",
       "0                       Logistic Regression  0.799\n",
       "2                      C5.0 (Decision Tree)  0.717"
      ]
     },
     "metadata": {},
     "output_type": "display_data"
    },
    {
     "data": {
      "text/plain": [
       "<AxesSubplot:ylabel='Model'>"
      ]
     },
     "execution_count": 67,
     "metadata": {},
     "output_type": "execute_result"
    },
    {
     "data": {
      "image/png": "[encoded data removed]",
      "text/plain": [
       "<Figure size 432x288 with 1 Axes>"
      ]
     },
     "metadata": {
      "needs_background": "light"
     },
     "output_type": "display_data"
    }
   ],
   "source": [
    "# Visualise the performance of defect models\n",
    "display(model_performance_df)\n",
    "model_performance_df.plot(kind = 'barh', y = 'AUC', x = 'Model')"
   ]
  },
  {
   "cell_type": "markdown",
   "metadata": {},
   "source": [
    "\n",
    "<!-- \n",
    "### TODO - Content\n",
    "\n",
    "\n",
    "## Always optimize hyperparameter settings\n",
    "\n",
    "### TODO - Content -->"
   ]
  },
  {
   "cell_type": "markdown",
   "metadata": {},
   "source": [
    "```{note}\n",
    "Parts of this chapter have been published by Jirayus Jiarpakdee, Chakkrit Tantithamthavorn, Hoa K. Dam, John Grundy:\n",
    "An Empirical Study of Model-Agnostic Techniques for Defect Prediction Models. IEEE Trans. Software Eng. (2021).\n",
    "```\n",
    "\n",
    "\n",
    "## Suggested Readings\n",
    "\n",
    "[1] Chakkrit Tantithamthavorn, Shane McIntosh, Ahmed E. Hassan, Kenichi Matsumoto: The Impact of Automated Parameter Optimization on Defect Prediction Models. IEEE Trans. Software Eng. 45(7): 683-711 (2019).\n",
    "\n",
    "[2] Emad Shihab: An Exploration of Challenges Limiting Pragmatic Software Defect Prediction. Queen's University at Kingston, Ontario, Canada, 2012.\n",
    "\n",
    "[3] Tracy Hall, Sarah Beecham, David Bowes, David Gray, Steve Counsell:\n",
    "A Systematic Literature Review on Fault Prediction Performance in Software Engineering. IEEE Trans. Software Eng. 38(6): 1276-1304 (2012)."
   ]
  },
  {
   "cell_type": "code",
   "execution_count": null,
   "metadata": {},
   "outputs": [],
   "source": []
  }
 ],
 "metadata": {
  "kernelspec": {
   "display_name": "xaitools",
   "language": "python",
   "name": "xaitools"
  },
  "language_info": {
   "codemirror_mode": {
    "name": "ipython",
    "version": 3
   },
   "file_extension": ".py",
   "mimetype": "text/x-python",
   "name": "python",
   "nbconvert_exporter": "python",
   "pygments_lexer": "ipython3",
   "version": "3.6.13"
  }
 },
 "nbformat": 4,
 "nbformat_minor": 4
}
